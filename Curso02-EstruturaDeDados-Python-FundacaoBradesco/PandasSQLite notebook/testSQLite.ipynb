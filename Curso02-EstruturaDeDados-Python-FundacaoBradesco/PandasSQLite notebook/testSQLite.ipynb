{
 "cells": [
  {
   "cell_type": "markdown",
   "source": [
    "Importanto a biblioteca SQLite3 para estabelecer conexão com o banco de dados"
   ],
   "metadata": {
    "collapsed": false
   },
   "id": "2a6d186e6669153f"
  },
  {
   "cell_type": "code",
   "execution_count": 1,
   "id": "initial_id",
   "metadata": {
    "collapsed": true,
    "ExecuteTime": {
     "end_time": "2023-09-21T16:34:02.030554100Z",
     "start_time": "2023-09-21T16:34:02.017901Z"
    }
   },
   "outputs": [],
   "source": [
    "import sqlite3\n",
    "\n",
    "con=sqlite3.connect('agenda.db')"
   ]
  },
  {
   "cell_type": "markdown",
   "source": [
    "Definindo o DatabaseCursor para execução SQL.\n",
    "a chamada con.cursor() que cria um cursor, o objeto retornado representa a conexão com o banco de dados no disco."
   ],
   "metadata": {
    "collapsed": false
   },
   "id": "d3cfed5befec0943"
  },
  {
   "cell_type": "code",
   "execution_count": null,
   "outputs": [],
   "source": [
    "cur = con.cursor()"
   ],
   "metadata": {
    "collapsed": false
   },
   "id": "654450df2e41cefc"
  },
  {
   "cell_type": "markdown",
   "source": [
    "Criando uma tabela chamada contatos"
   ],
   "metadata": {
    "collapsed": false
   },
   "id": "f9167fb28465f45d"
  },
  {
   "cell_type": "code",
   "execution_count": 6,
   "outputs": [
    {
     "data": {
      "text/plain": "<sqlite3.Cursor at 0x267fe5518c0>"
     },
     "execution_count": 6,
     "metadata": {},
     "output_type": "execute_result"
    }
   ],
   "source": [
    "cur.execute(\"CREATE TABLE contatos(nome, endereco, telefone)\")"
   ],
   "metadata": {
    "collapsed": false,
    "ExecuteTime": {
     "end_time": "2023-09-21T16:42:12.267029800Z",
     "start_time": "2023-09-21T16:42:12.259333Z"
    }
   },
   "id": "7a5140a23f7107f2"
  },
  {
   "cell_type": "markdown",
   "source": [
    "Agora que sua tabela foi criada, podemos consultá-la com o recurso cur.execute(...)"
   ],
   "metadata": {
    "collapsed": false
   },
   "id": "9be8393b5f07fc62"
  },
  {
   "cell_type": "code",
   "execution_count": 7,
   "outputs": [],
   "source": [
    "res = cur.execute(\"SELECT name FROM sqlite_master\")"
   ],
   "metadata": {
    "collapsed": false,
    "ExecuteTime": {
     "end_time": "2023-09-21T16:46:51.611609700Z",
     "start_time": "2023-09-21T16:46:51.605600700Z"
    }
   },
   "id": "bc476e5c156a655c"
  },
  {
   "cell_type": "markdown",
   "source": [
    "E para buscar a linha resultante: res.fetchone()."
   ],
   "metadata": {
    "collapsed": false
   },
   "id": "6a7213ae80e676f5"
  },
  {
   "cell_type": "code",
   "execution_count": 8,
   "outputs": [
    {
     "data": {
      "text/plain": "('contatos',)"
     },
     "execution_count": 8,
     "metadata": {},
     "output_type": "execute_result"
    }
   ],
   "source": [
    "res.fetchone()"
   ],
   "metadata": {
    "collapsed": false,
    "ExecuteTime": {
     "end_time": "2023-09-21T16:46:53.968792Z",
     "start_time": "2023-09-21T16:46:53.960164Z"
    }
   },
   "id": "151db2fa544c198b"
  },
  {
   "cell_type": "code",
   "execution_count": 10,
   "outputs": [],
   "source": [],
   "metadata": {
    "collapsed": false,
    "ExecuteTime": {
     "end_time": "2023-09-21T16:51:56.619008700Z",
     "start_time": "2023-09-21T16:51:56.604156500Z"
    }
   },
   "id": "2a4679dfb0068bfc"
  },
  {
   "cell_type": "code",
   "execution_count": 12,
   "outputs": [],
   "source": [],
   "metadata": {
    "collapsed": false,
    "ExecuteTime": {
     "end_time": "2023-09-21T16:52:34.926643500Z",
     "start_time": "2023-09-21T16:52:34.922943500Z"
    }
   },
   "id": "ad47234b967a1b8a"
  },
  {
   "cell_type": "code",
   "execution_count": null,
   "outputs": [],
   "source": [],
   "metadata": {
    "collapsed": false
   },
   "id": "33aa190e30a08615"
  }
 ],
 "metadata": {
  "kernelspec": {
   "display_name": "Python 3",
   "language": "python",
   "name": "python3"
  },
  "language_info": {
   "codemirror_mode": {
    "name": "ipython",
    "version": 2
   },
   "file_extension": ".py",
   "mimetype": "text/x-python",
   "name": "python",
   "nbconvert_exporter": "python",
   "pygments_lexer": "ipython2",
   "version": "2.7.6"
  }
 },
 "nbformat": 4,
 "nbformat_minor": 5
}
