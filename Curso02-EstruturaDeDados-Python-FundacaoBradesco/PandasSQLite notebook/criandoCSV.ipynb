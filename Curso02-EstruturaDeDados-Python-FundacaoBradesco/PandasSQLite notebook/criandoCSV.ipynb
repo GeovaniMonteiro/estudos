{
 "cells": [
  {
   "cell_type": "code",
   "execution_count": 1,
   "id": "initial_id",
   "metadata": {
    "collapsed": true,
    "ExecuteTime": {
     "end_time": "2023-09-21T17:20:44.655801500Z",
     "start_time": "2023-09-21T17:20:44.239183800Z"
    }
   },
   "outputs": [],
   "source": [
    "import pandas as pd"
   ]
  },
  {
   "cell_type": "code",
   "execution_count": 3,
   "outputs": [
    {
     "data": {
      "text/plain": "                 Autor                    Livro   Ano\n0              Sun Tzu         A Arte da Guerra  2000\n1      Fernando Pessoa  O Livro do Desassossego  1982\n2          Thomas Mann        A Montanha Mágica  1924\n3  Joao Guimaraes Rosa    Grande Sertão Veredas  2002",
      "text/html": "<div>\n<style scoped>\n    .dataframe tbody tr th:only-of-type {\n        vertical-align: middle;\n    }\n\n    .dataframe tbody tr th {\n        vertical-align: top;\n    }\n\n    .dataframe thead th {\n        text-align: right;\n    }\n</style>\n<table border=\"1\" class=\"dataframe\">\n  <thead>\n    <tr style=\"text-align: right;\">\n      <th></th>\n      <th>Autor</th>\n      <th>Livro</th>\n      <th>Ano</th>\n    </tr>\n  </thead>\n  <tbody>\n    <tr>\n      <th>0</th>\n      <td>Sun Tzu</td>\n      <td>A Arte da Guerra</td>\n      <td>2000</td>\n    </tr>\n    <tr>\n      <th>1</th>\n      <td>Fernando Pessoa</td>\n      <td>O Livro do Desassossego</td>\n      <td>1982</td>\n    </tr>\n    <tr>\n      <th>2</th>\n      <td>Thomas Mann</td>\n      <td>A Montanha Mágica</td>\n      <td>1924</td>\n    </tr>\n    <tr>\n      <th>3</th>\n      <td>Joao Guimaraes Rosa</td>\n      <td>Grande Sertão Veredas</td>\n      <td>2002</td>\n    </tr>\n  </tbody>\n</table>\n</div>"
     },
     "execution_count": 3,
     "metadata": {},
     "output_type": "execute_result"
    }
   ],
   "source": [
    "autor = [ 'Sun Tzu', 'Fernando Pessoa' ,'Thomas Mann' ,'Joao Guimaraes Rosa']\n",
    "livro = ['A Arte da Guerra', 'O Livro do Desassossego','A Montanha Mágica','Grande Sertão Veredas']\n",
    "ano = [2000,1982,1924,2002]\n",
    "\n",
    "dados = {\n",
    "    'Autor':autor,\n",
    "    'Livro':livro,\n",
    "    'Ano':ano\n",
    "}\n",
    "Biblioteca = pd.DataFrame(dados)\n",
    "Biblioteca"
   ],
   "metadata": {
    "collapsed": false,
    "ExecuteTime": {
     "end_time": "2023-09-21T17:27:18.738110400Z",
     "start_time": "2023-09-21T17:27:18.723373700Z"
    }
   },
   "id": "99bab9ba89cc7269"
  },
  {
   "cell_type": "code",
   "execution_count": 4,
   "outputs": [
    {
     "data": {
      "text/plain": "pandas.core.frame.DataFrame"
     },
     "execution_count": 4,
     "metadata": {},
     "output_type": "execute_result"
    }
   ],
   "source": [
    "type(Biblioteca)"
   ],
   "metadata": {
    "collapsed": false,
    "ExecuteTime": {
     "end_time": "2023-09-21T17:27:37.893443700Z",
     "start_time": "2023-09-21T17:27:37.883548100Z"
    }
   },
   "id": "7b462368c518c90c"
  },
  {
   "cell_type": "markdown",
   "source": [
    "Convertendo para um arquivo.csv"
   ],
   "metadata": {
    "collapsed": false
   },
   "id": "d65e93baf4308878"
  },
  {
   "cell_type": "code",
   "execution_count": 20,
   "outputs": [],
   "source": [
    "Biblioteca.to_csv('Biblioteca.csv')"
   ],
   "metadata": {
    "collapsed": false,
    "ExecuteTime": {
     "end_time": "2023-09-21T17:36:42.636241200Z",
     "start_time": "2023-09-21T17:36:42.625957400Z"
    }
   },
   "id": "207fe782712a7f82"
  },
  {
   "cell_type": "markdown",
   "source": [
    "o csv foi atualizado por fora, podemos ler ele novamente pelo pd.read_csv"
   ],
   "metadata": {
    "collapsed": false
   },
   "id": "65c3663eef0121bf"
  },
  {
   "cell_type": "markdown",
   "source": [
    "Adicionando o argumento index_col=0 ao comando podemos visualizar a tabela e seus índices. \n",
    "A chamada Biblioteca.head() retorna o mesmo resultado."
   ],
   "metadata": {
    "collapsed": false
   },
   "id": "c8f0b2d15a86ff54"
  },
  {
   "cell_type": "code",
   "execution_count": 21,
   "outputs": [
    {
     "data": {
      "text/plain": "                 Autor                    Livro   Ano\n0              Sun Tzu         A Arte da Guerra  2000\n1      Fernando Pessoa  O Livro do Desassossego  1982\n2          Thomas Mann        A Montanha Mágica  1924\n3  Joao Guimaraes Rosa    Grande Sertão Veredas  2002",
      "text/html": "<div>\n<style scoped>\n    .dataframe tbody tr th:only-of-type {\n        vertical-align: middle;\n    }\n\n    .dataframe tbody tr th {\n        vertical-align: top;\n    }\n\n    .dataframe thead th {\n        text-align: right;\n    }\n</style>\n<table border=\"1\" class=\"dataframe\">\n  <thead>\n    <tr style=\"text-align: right;\">\n      <th></th>\n      <th>Autor</th>\n      <th>Livro</th>\n      <th>Ano</th>\n    </tr>\n  </thead>\n  <tbody>\n    <tr>\n      <th>0</th>\n      <td>Sun Tzu</td>\n      <td>A Arte da Guerra</td>\n      <td>2000</td>\n    </tr>\n    <tr>\n      <th>1</th>\n      <td>Fernando Pessoa</td>\n      <td>O Livro do Desassossego</td>\n      <td>1982</td>\n    </tr>\n    <tr>\n      <th>2</th>\n      <td>Thomas Mann</td>\n      <td>A Montanha Mágica</td>\n      <td>1924</td>\n    </tr>\n    <tr>\n      <th>3</th>\n      <td>Joao Guimaraes Rosa</td>\n      <td>Grande Sertão Veredas</td>\n      <td>2002</td>\n    </tr>\n  </tbody>\n</table>\n</div>"
     },
     "execution_count": 21,
     "metadata": {},
     "output_type": "execute_result"
    }
   ],
   "source": [
    "Biblioteca2= pd.read_csv('Biblioteca.csv',index_col=0)\n",
    "Biblioteca2"
   ],
   "metadata": {
    "collapsed": false,
    "ExecuteTime": {
     "end_time": "2023-09-21T17:36:44.927094Z",
     "start_time": "2023-09-21T17:36:44.916915300Z"
    }
   },
   "id": "e507359da4f38422"
  },
  {
   "cell_type": "markdown",
   "source": [
    "Verificando as Informações"
   ],
   "metadata": {
    "collapsed": false
   },
   "id": "ccad4b23e5836260"
  },
  {
   "cell_type": "code",
   "execution_count": 14,
   "outputs": [
    {
     "name": "stdout",
     "output_type": "stream",
     "text": [
      "<class 'pandas.core.frame.DataFrame'>\n",
      "Int64Index: 5 entries, 0 to 4\n",
      "Data columns (total 3 columns):\n",
      " #   Column  Non-Null Count  Dtype \n",
      "---  ------  --------------  ----- \n",
      " 0   Autor   5 non-null      object\n",
      " 1   Livro   5 non-null      object\n",
      " 2   Ano     5 non-null      int64 \n",
      "dtypes: int64(1), object(2)\n",
      "memory usage: 160.0+ bytes\n"
     ]
    }
   ],
   "source": [
    "Biblioteca2.info()"
   ],
   "metadata": {
    "collapsed": false,
    "ExecuteTime": {
     "end_time": "2023-09-21T17:34:37.624125800Z",
     "start_time": "2023-09-21T17:34:37.614015900Z"
    }
   },
   "id": "e0172934b3f8a118"
  },
  {
   "cell_type": "markdown",
   "source": [
    "Verificando as Colunas da Tabela"
   ],
   "metadata": {
    "collapsed": false
   },
   "id": "5698a698b5703d5b"
  },
  {
   "cell_type": "code",
   "execution_count": 15,
   "outputs": [
    {
     "data": {
      "text/plain": "Index(['Autor', 'Livro', 'Ano'], dtype='object')"
     },
     "execution_count": 15,
     "metadata": {},
     "output_type": "execute_result"
    }
   ],
   "source": [
    "Biblioteca2.columns"
   ],
   "metadata": {
    "collapsed": false,
    "ExecuteTime": {
     "end_time": "2023-09-21T17:34:40.407168200Z",
     "start_time": "2023-09-21T17:34:40.404257800Z"
    }
   },
   "id": "7d53cc1bc3bede27"
  },
  {
   "cell_type": "code",
   "execution_count": 10,
   "outputs": [],
   "source": [
    "Biblioteca2"
   ],
   "metadata": {
    "collapsed": false,
    "ExecuteTime": {
     "end_time": "2023-09-21T17:32:33.874150100Z",
     "start_time": "2023-09-21T17:32:33.865736300Z"
    }
   },
   "id": "c59c5f82e4858544"
  },
  {
   "cell_type": "code",
   "execution_count": null,
   "outputs": [],
   "source": [],
   "metadata": {
    "collapsed": false
   },
   "id": "bcc337980f28753c"
  },
  {
   "cell_type": "code",
   "execution_count": null,
   "outputs": [],
   "source": [],
   "metadata": {
    "collapsed": false
   },
   "id": "e23c690a2cb0c466"
  }
 ],
 "metadata": {
  "kernelspec": {
   "display_name": "Python 3",
   "language": "python",
   "name": "python3"
  },
  "language_info": {
   "codemirror_mode": {
    "name": "ipython",
    "version": 2
   },
   "file_extension": ".py",
   "mimetype": "text/x-python",
   "name": "python",
   "nbconvert_exporter": "python",
   "pygments_lexer": "ipython2",
   "version": "2.7.6"
  }
 },
 "nbformat": 4,
 "nbformat_minor": 5
}
