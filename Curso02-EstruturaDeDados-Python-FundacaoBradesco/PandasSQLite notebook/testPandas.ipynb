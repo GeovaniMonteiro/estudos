{
 "cells": [
  {
   "cell_type": "markdown",
   "source": [
    "importando Pandas"
   ],
   "metadata": {
    "collapsed": false
   },
   "id": "5bc48a7fdded3c09"
  },
  {
   "cell_type": "code",
   "execution_count": 1,
   "id": "initial_id",
   "metadata": {
    "collapsed": true,
    "ExecuteTime": {
     "end_time": "2023-09-21T16:54:23.637344Z",
     "start_time": "2023-09-21T16:54:23.222268800Z"
    }
   },
   "outputs": [],
   "source": [
    "import pandas as pd"
   ]
  },
  {
   "cell_type": "markdown",
   "source": [
    "Criando um array unidimensional serie"
   ],
   "metadata": {
    "collapsed": false
   },
   "id": "2082ecdfaf2dba43"
  },
  {
   "cell_type": "code",
   "execution_count": 3,
   "outputs": [
    {
     "data": {
      "text/plain": "0     1\n1     7\n2     9\n3    13\n4    17\n5    99\ndtype: int64"
     },
     "execution_count": 3,
     "metadata": {},
     "output_type": "execute_result"
    }
   ],
   "source": [
    "series_objeto = pd.Series([1,7,9,13,17,99])\n",
    "series_objeto"
   ],
   "metadata": {
    "collapsed": false,
    "ExecuteTime": {
     "end_time": "2023-09-21T16:54:43.800667900Z",
     "start_time": "2023-09-21T16:54:43.791588600Z"
    }
   },
   "id": "f8dc8b420c8af648"
  },
  {
   "cell_type": "markdown",
   "source": [
    "Cada elemento da série está associado a um indice(index) perceba na coluna a esquerda o index e na direita o conteúdo\n",
    "Podemos personalizar os indices da seguinte forma"
   ],
   "metadata": {
    "collapsed": false
   },
   "id": "9e5c6ab6d5fd206"
  },
  {
   "cell_type": "code",
   "execution_count": 12,
   "outputs": [
    {
     "data": {
      "text/plain": "alfa      4\nbeta      7\nteta      8\ngama      9\ndelta    10\ndtype: int64"
     },
     "execution_count": 12,
     "metadata": {},
     "output_type": "execute_result"
    }
   ],
   "source": [
    "series_objeto2 = pd.Series([4,7,8,9,10], index = ['alfa','beta','teta','gama','delta'])\n",
    "series_objeto2"
   ],
   "metadata": {
    "collapsed": false,
    "ExecuteTime": {
     "end_time": "2023-09-21T17:02:18.455331600Z",
     "start_time": "2023-09-21T17:02:18.442207100Z"
    }
   },
   "id": "8985f9944df7264b"
  },
  {
   "cell_type": "markdown",
   "source": [
    "Em Pandas temos dois tipos de estruturas de dados Listas e Dataframes\n",
    "Definindo um dataframe"
   ],
   "metadata": {
    "collapsed": false
   },
   "id": "41440309aa4e6a7"
  },
  {
   "cell_type": "code",
   "execution_count": 14,
   "outputs": [
    {
     "data": {
      "text/plain": "          cursos  creditos  requisitos\n0   estatisticas        90        True\n1      pedagogia        50       False\n2  administração        84        True\n3      geometria        52        True\n4        calculo        80        True",
      "text/html": "<div>\n<style scoped>\n    .dataframe tbody tr th:only-of-type {\n        vertical-align: middle;\n    }\n\n    .dataframe tbody tr th {\n        vertical-align: top;\n    }\n\n    .dataframe thead th {\n        text-align: right;\n    }\n</style>\n<table border=\"1\" class=\"dataframe\">\n  <thead>\n    <tr style=\"text-align: right;\">\n      <th></th>\n      <th>cursos</th>\n      <th>creditos</th>\n      <th>requisitos</th>\n    </tr>\n  </thead>\n  <tbody>\n    <tr>\n      <th>0</th>\n      <td>estatisticas</td>\n      <td>90</td>\n      <td>True</td>\n    </tr>\n    <tr>\n      <th>1</th>\n      <td>pedagogia</td>\n      <td>50</td>\n      <td>False</td>\n    </tr>\n    <tr>\n      <th>2</th>\n      <td>administração</td>\n      <td>84</td>\n      <td>True</td>\n    </tr>\n    <tr>\n      <th>3</th>\n      <td>geometria</td>\n      <td>52</td>\n      <td>True</td>\n    </tr>\n    <tr>\n      <th>4</th>\n      <td>calculo</td>\n      <td>80</td>\n      <td>True</td>\n    </tr>\n  </tbody>\n</table>\n</div>"
     },
     "execution_count": 14,
     "metadata": {},
     "output_type": "execute_result"
    }
   ],
   "source": [
    "disciplinas = {'cursos':['estatisticas','pedagogia','administração','geometria','calculo']\n",
    "               ,'creditos':[90,50,84,52,80]\n",
    "               ,'requisitos':[True,False,True,True,True]}\n",
    "\n",
    "data = pd.DataFrame(disciplinas)\n",
    "data\n"
   ],
   "metadata": {
    "collapsed": false,
    "ExecuteTime": {
     "end_time": "2023-09-21T17:06:40.085698700Z",
     "start_time": "2023-09-21T17:06:40.072608500Z"
    }
   },
   "id": "a74d6730b5807d3c"
  },
  {
   "cell_type": "markdown",
   "source": [
    "Imagine que você foi requisitado para projetar uma estrutura de dados tabular que contenha o nome e a população de algumas cidades brasileiras. Vamos iniciar com as três primeiras cidades. Criamos a variável nome_cidade que receberá os nomes e a variável população. A linha pd.DataFrame transforma as listas em um DataFrame."
   ],
   "metadata": {
    "collapsed": false
   },
   "id": "82c16bc7db724c59"
  },
  {
   "cell_type": "code",
   "execution_count": 20,
   "outputs": [
    {
     "data": {
      "text/plain": "       Cidade  População\n0     Maringá      50000\n1     Itibaia       2500\n2  Uberlândia       2100",
      "text/html": "<div>\n<style scoped>\n    .dataframe tbody tr th:only-of-type {\n        vertical-align: middle;\n    }\n\n    .dataframe tbody tr th {\n        vertical-align: top;\n    }\n\n    .dataframe thead th {\n        text-align: right;\n    }\n</style>\n<table border=\"1\" class=\"dataframe\">\n  <thead>\n    <tr style=\"text-align: right;\">\n      <th></th>\n      <th>Cidade</th>\n      <th>População</th>\n    </tr>\n  </thead>\n  <tbody>\n    <tr>\n      <th>0</th>\n      <td>Maringá</td>\n      <td>50000</td>\n    </tr>\n    <tr>\n      <th>1</th>\n      <td>Itibaia</td>\n      <td>2500</td>\n    </tr>\n    <tr>\n      <th>2</th>\n      <td>Uberlândia</td>\n      <td>2100</td>\n    </tr>\n  </tbody>\n</table>\n</div>"
     },
     "execution_count": 20,
     "metadata": {},
     "output_type": "execute_result"
    }
   ],
   "source": [
    "nome_cidade = pd.Series(['Maringá','Itibaia','Uberlândia'])\n",
    "populacao1 = pd.Series([50000,2500,2100])\n",
    "\n",
    "pd.DataFrame({\"Cidade\": nome_cidade, \"População\":populacao1})"
   ],
   "metadata": {
    "collapsed": false,
    "ExecuteTime": {
     "end_time": "2023-09-21T17:12:19.572827Z",
     "start_time": "2023-09-21T17:12:19.562702900Z"
    }
   },
   "id": "d1b155465546ded4"
  },
  {
   "cell_type": "markdown",
   "source": [
    "Transformando listas em dicionario"
   ],
   "metadata": {
    "collapsed": false
   },
   "id": "5570c5f79a036dda"
  },
  {
   "cell_type": "code",
   "execution_count": 22,
   "outputs": [
    {
     "data": {
      "text/plain": "{'Maringá': 403.063,\n 'Salvador': 120.94,\n 'Fortaleza': 699.07,\n 'Itabira': 2.886698,\n 'Uberlândia': 2}"
     },
     "execution_count": 22,
     "metadata": {},
     "output_type": "execute_result"
    }
   ],
   "source": [
    "cidades = ['Maringá','Salvador', 'Fortaleza','Itabira','Uberlândia']\n",
    "populacao = [403.063 , 120.94, 699.07, 2.886698, 2,686612]\n",
    "populacao_cidades = dict(zip(cidades,populacao))\n",
    "populacao_cidades"
   ],
   "metadata": {
    "collapsed": false,
    "ExecuteTime": {
     "end_time": "2023-09-21T17:15:26.843068300Z",
     "start_time": "2023-09-21T17:15:26.832970300Z"
    }
   },
   "id": "bdae7a728a52396e"
  },
  {
   "cell_type": "markdown",
   "source": [
    "Verificando as informações"
   ],
   "metadata": {
    "collapsed": false
   },
   "id": "b9c99a76253e6040"
  },
  {
   "cell_type": "code",
   "execution_count": 24,
   "outputs": [
    {
     "data": {
      "text/plain": "True"
     },
     "execution_count": 24,
     "metadata": {},
     "output_type": "execute_result"
    }
   ],
   "source": [
    "'Maringá' in populacao_cidades"
   ],
   "metadata": {
    "collapsed": false,
    "ExecuteTime": {
     "end_time": "2023-09-21T17:16:28.313062100Z",
     "start_time": "2023-09-21T17:16:28.306963900Z"
    }
   },
   "id": "fe548b47f5fdb0a0"
  },
  {
   "cell_type": "code",
   "execution_count": 25,
   "outputs": [
    {
     "data": {
      "text/plain": "False"
     },
     "execution_count": 25,
     "metadata": {},
     "output_type": "execute_result"
    }
   ],
   "source": [
    "'São Paulo' in populacao_cidades"
   ],
   "metadata": {
    "collapsed": false,
    "ExecuteTime": {
     "end_time": "2023-09-21T17:16:53.412996300Z",
     "start_time": "2023-09-21T17:16:53.400041500Z"
    }
   },
   "id": "64ccff4e9eaba4f2"
  },
  {
   "cell_type": "markdown",
   "source": [
    "Adicionando uma nova ciddade na lista"
   ],
   "metadata": {
    "collapsed": false
   },
   "id": "b72422adda0aa447"
  },
  {
   "cell_type": "code",
   "execution_count": 27,
   "outputs": [
    {
     "data": {
      "text/plain": "{'Maringá': 403.063,\n 'Salvador': 120.94,\n 'Fortaleza': 699.07,\n 'Itabira': 2.886698,\n 'Uberlândia': 2,\n 'São Carlos': 403.6}"
     },
     "execution_count": 27,
     "metadata": {},
     "output_type": "execute_result"
    }
   ],
   "source": [
    "populacao_cidades['São Carlos']=403.600\n",
    "populacao_cidades"
   ],
   "metadata": {
    "collapsed": false,
    "ExecuteTime": {
     "end_time": "2023-09-21T17:18:00.347703300Z",
     "start_time": "2023-09-21T17:18:00.333033200Z"
    }
   },
   "id": "183322ab5a897467"
  },
  {
   "cell_type": "markdown",
   "source": [
    "Deletando uma cidade da lista"
   ],
   "metadata": {
    "collapsed": false
   },
   "id": "48e0cdcbee084731"
  },
  {
   "cell_type": "code",
   "execution_count": 28,
   "outputs": [
    {
     "data": {
      "text/plain": "{'Maringá': 403.063,\n 'Salvador': 120.94,\n 'Fortaleza': 699.07,\n 'Itabira': 2.886698,\n 'São Carlos': 403.6}"
     },
     "execution_count": 28,
     "metadata": {},
     "output_type": "execute_result"
    }
   ],
   "source": [
    "del populacao_cidades['Uberlândia']\n",
    "populacao_cidades"
   ],
   "metadata": {
    "collapsed": false,
    "ExecuteTime": {
     "end_time": "2023-09-21T17:18:46.253008500Z",
     "start_time": "2023-09-21T17:18:46.233292500Z"
    }
   },
   "id": "fd63c20a70856323"
  },
  {
   "cell_type": "markdown",
   "source": [],
   "metadata": {
    "collapsed": false
   },
   "id": "3cdda1fae4068dc7"
  },
  {
   "cell_type": "code",
   "execution_count": null,
   "outputs": [],
   "source": [],
   "metadata": {
    "collapsed": false
   },
   "id": "494c554750413a7b"
  }
 ],
 "metadata": {
  "kernelspec": {
   "display_name": "Python 3",
   "language": "python",
   "name": "python3"
  },
  "language_info": {
   "codemirror_mode": {
    "name": "ipython",
    "version": 2
   },
   "file_extension": ".py",
   "mimetype": "text/x-python",
   "name": "python",
   "nbconvert_exporter": "python",
   "pygments_lexer": "ipython2",
   "version": "2.7.6"
  }
 },
 "nbformat": 4,
 "nbformat_minor": 5
}
