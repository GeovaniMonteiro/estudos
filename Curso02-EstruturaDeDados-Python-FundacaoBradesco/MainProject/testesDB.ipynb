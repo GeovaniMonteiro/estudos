{
 "cells": [
  {
   "cell_type": "markdown",
   "source": [
    "## como o arquivo da Tabela podemos visualizar o seu conteúdo"
   ],
   "metadata": {
    "collapsed": false
   },
   "id": "56bbc655312f6143"
  },
  {
   "cell_type": "code",
   "execution_count": 6,
   "id": "initial_id",
   "metadata": {
    "collapsed": true,
    "ExecuteTime": {
     "end_time": "2023-09-21T20:22:11.921382Z",
     "start_time": "2023-09-21T20:22:11.910973400Z"
    }
   },
   "outputs": [
    {
     "data": {
      "text/plain": "   id        nome   sobrenome                      email             cpf\n0   1    Geruncio       Silva         silvage3@gmail.com  515.251.154-20\n1   2    Silveira  Silveinhda        asdadasd3@gmail.com  234.251.154-20\n2   4   Carlinhos      Macedo  Carlosmacedo@yahoo.com.br  514.321.521.20\n3   5    Gabriela     Rochedo      GabiDksdam2@gmail.com  165.544.854-12\n4   6  Mksabriela   silveirdo         asdaeem2@gmail.com  345.544.854-12",
      "text/html": "<div>\n<style scoped>\n    .dataframe tbody tr th:only-of-type {\n        vertical-align: middle;\n    }\n\n    .dataframe tbody tr th {\n        vertical-align: top;\n    }\n\n    .dataframe thead th {\n        text-align: right;\n    }\n</style>\n<table border=\"1\" class=\"dataframe\">\n  <thead>\n    <tr style=\"text-align: right;\">\n      <th></th>\n      <th>id</th>\n      <th>nome</th>\n      <th>sobrenome</th>\n      <th>email</th>\n      <th>cpf</th>\n    </tr>\n  </thead>\n  <tbody>\n    <tr>\n      <th>0</th>\n      <td>1</td>\n      <td>Geruncio</td>\n      <td>Silva</td>\n      <td>silvage3@gmail.com</td>\n      <td>515.251.154-20</td>\n    </tr>\n    <tr>\n      <th>1</th>\n      <td>2</td>\n      <td>Silveira</td>\n      <td>Silveinhda</td>\n      <td>asdadasd3@gmail.com</td>\n      <td>234.251.154-20</td>\n    </tr>\n    <tr>\n      <th>2</th>\n      <td>4</td>\n      <td>Carlinhos</td>\n      <td>Macedo</td>\n      <td>Carlosmacedo@yahoo.com.br</td>\n      <td>514.321.521.20</td>\n    </tr>\n    <tr>\n      <th>3</th>\n      <td>5</td>\n      <td>Gabriela</td>\n      <td>Rochedo</td>\n      <td>GabiDksdam2@gmail.com</td>\n      <td>165.544.854-12</td>\n    </tr>\n    <tr>\n      <th>4</th>\n      <td>6</td>\n      <td>Mksabriela</td>\n      <td>silveirdo</td>\n      <td>asdaeem2@gmail.com</td>\n      <td>345.544.854-12</td>\n    </tr>\n  </tbody>\n</table>\n</div>"
     },
     "execution_count": 6,
     "metadata": {},
     "output_type": "execute_result"
    }
   ],
   "source": [
    "import sqlite3\n",
    "import pandas as pd\n",
    "\n",
    "conn = sqlite3.connect('clientes.db')\n",
    "\n",
    "selectAll = \"SELECT * FROM clientes\"\n",
    "\n",
    "df = pd.read_sql_query(selectAll, conn)\n",
    "df.head()"
   ]
  },
  {
   "cell_type": "markdown",
   "source": [
    "## Ou então adicionar novos conteudos nele"
   ],
   "metadata": {
    "collapsed": false
   },
   "id": "b5a0fce6107d50f7"
  },
  {
   "cell_type": "code",
   "execution_count": 7,
   "outputs": [],
   "source": [
    "import sqlite3\n",
    "import pandas as pd\n",
    "\n",
    "conn = sqlite3.connect('clientes.db')\n",
    "\n",
    "dados = {\n",
    "    'nome':['Geovani','Clara','Joaquim','Julio']\n",
    "    ,'sobrenome':['Monteiro','Macedo','Antonio','Cezar']\n",
    "    ,'email':['GeovasMonc@gmail.com','ClaraMacedinho@yahoo.com','JoaquinzinhoMilho@gmail.com','ImperadorRomano@gmail.com']\n",
    "    ,'cpf':['567.890.123-45','456.789.012-34','345.678.901-23','234.567.890-12']\n",
    "}\n",
    "\n",
    "df = pd.DataFrame(dados)\n",
    "\n",
    "df.to_sql('clientes', conn, if_exists='append', index=False)\n",
    "df.head()\n",
    "conn.close()"
   ],
   "metadata": {
    "collapsed": false,
    "ExecuteTime": {
     "end_time": "2023-09-21T20:22:14.881383700Z",
     "start_time": "2023-09-21T20:22:14.821209Z"
    }
   },
   "id": "4b610fa3d2f463e9"
  },
  {
   "cell_type": "code",
   "execution_count": null,
   "outputs": [],
   "source": [],
   "metadata": {
    "collapsed": false
   },
   "id": "f021b7a3c76bdd68"
  }
 ],
 "metadata": {
  "kernelspec": {
   "display_name": "Python 3",
   "language": "python",
   "name": "python3"
  },
  "language_info": {
   "codemirror_mode": {
    "name": "ipython",
    "version": 2
   },
   "file_extension": ".py",
   "mimetype": "text/x-python",
   "name": "python",
   "nbconvert_exporter": "python",
   "pygments_lexer": "ipython2",
   "version": "2.7.6"
  }
 },
 "nbformat": 4,
 "nbformat_minor": 5
}
