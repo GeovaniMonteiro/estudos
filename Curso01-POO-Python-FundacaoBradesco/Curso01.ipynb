{
 "cells": [
  {
   "cell_type": "markdown",
   "id": "a0284f69829872b3",
   "metadata": {},
   "source": [
    "                    CURSO BÁSICO DE POO NA LINGUAGEM PYTHON\n",
    "Durante o curso foi apresentada a base introdutória da Orientação a Objetos"
   ]
  },
  {
   "cell_type": "markdown",
   "id": "59722544d1897191",
   "metadata": {},
   "source": [
    "Encapsulamento é a proteção dos atributos ou métodos de uma classe,\n",
    "em Python existem somente o public e o private e eles são definidos\n",
    "no próprio nome do atributo ou método."
   ]
  },
  {
   "cell_type": "code",
   "execution_count": 1,
   "id": "d36d090bc2294e7f",
   "metadata": {
    "ExecuteTime": {
     "end_time": "2023-09-20T05:39:25.525259700Z",
     "start_time": "2023-09-20T05:39:25.519239700Z"
    }
   },
   "outputs": [],
   "source": [
    "   class Soldado: \n",
    "    def __init__(self, nome, codinome): # Método Construtor nativo __init__\n",
    "        self.nome = nome # atributo publico\n",
    "        self._codinome = codinome # atributo privado a class Soldado"
   ]
  },
  {
   "cell_type": "markdown",
   "id": "e2298a2bdb47678",
   "metadata": {},
   "source": [
    "Para acessar o __codinome na Main class, precisamos definir os métodos denomidados GETTERS e SETTERS"
   ]
  },
  {
   "cell_type": "code",
   "execution_count": 2,
   "id": "78b40e25f700c142",
   "metadata": {
    "ExecuteTime": {
     "end_time": "2023-09-20T05:39:25.528223600Z",
     "start_time": "2023-09-20T05:39:25.524251600Z"
    }
   },
   "outputs": [],
   "source": [
    "# Retorna o codinome\n",
    "def get_codinome(self):\n",
    "    return self._codinome\n",
    "# Define o codinome\n",
    "def set_codinome(self,codinome):\n",
    "    self._codinome = codinome"
   ]
  },
  {
   "cell_type": "markdown",
   "id": "c11076a5fc77fa9d",
   "metadata": {},
   "source": [
    "Acessando pela Main class ficaria:"
   ]
  },
  {
   "cell_type": "code",
   "execution_count": null,
   "id": "c04bfb8c097c9f1e",
   "metadata": {},
   "outputs": [],
   "source": [
    "class Main:\n",
    "    pass\n",
    "from Soldado import Soldado\n",
    "\n",
    "s1 = Soldado('Jorge','Jorginho')\n",
    "\n",
    "print(s1.nome) # Acessando o nome publico\n",
    "print(s1.get_codinome()) # Acessando o codinome encapsulado"
   ]
  }
 ],
 "metadata": {
  "kernelspec": {
   "display_name": "Python 3 (ipykernel)",
   "language": "python",
   "name": "python3"
  },
  "language_info": {
   "codemirror_mode": {
    "name": "ipython",
    "version": 3
   },
   "file_extension": ".py",
   "mimetype": "text/x-python",
   "name": "python",
   "nbconvert_exporter": "python",
   "pygments_lexer": "ipython3",
   "version": "3.11.4"
  }
 },
 "nbformat": 4,
 "nbformat_minor": 5
}
