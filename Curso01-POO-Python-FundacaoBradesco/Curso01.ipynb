{
 "cells": [
  {
   "cell_type": "markdown",
   "source": [
    "                    CURSO BÁSICO DE POO NA LINGUAGEM PYTHON\n",
    "Durante o curso foi apresentada a base introdutória da Orientação a Objetos"
   ],
   "metadata": {
    "collapsed": false
   },
   "id": "a0284f69829872b3"
  },
  {
   "cell_type": "markdown",
   "source": [
    "Encapsulamento é a proteção dos atributos ou métodos de uma classe,\n",
    "em Python existem somente o public e o private e eles são definidos\n",
    "no próprio nome do atributo ou método"
   ],
   "metadata": {
    "collapsed": false
   },
   "id": "59722544d1897191"
  },
  {
   "cell_type": "code",
   "execution_count": 1,
   "outputs": [],
   "source": [
    "   class Soldado: \n",
    "    def __init__(self, nome, codinome): # Método Construtor nativo __init__\n",
    "        self.nome = nome # atributo publico\n",
    "        self._codinome = codinome # atributo privado a class Soldado"
   ],
   "metadata": {
    "collapsed": false,
    "ExecuteTime": {
     "end_time": "2023-09-20T05:39:25.525259700Z",
     "start_time": "2023-09-20T05:39:25.519239700Z"
    }
   },
   "id": "d36d090bc2294e7f"
  },
  {
   "cell_type": "markdown",
   "source": [
    "Para acessar o __codinome na Main class, precisamos definir os métodos denomidados GETTERS e SETTERS"
   ],
   "metadata": {
    "collapsed": false
   },
   "id": "e2298a2bdb47678"
  },
  {
   "cell_type": "code",
   "execution_count": 2,
   "outputs": [],
   "source": [
    "# Retorna o codinome\n",
    "def get_codinome(self):\n",
    "    return self._codinome\n",
    "# Define o codinome\n",
    "def set_codinome(self,codinome):\n",
    "    self._codinome = codinome"
   ],
   "metadata": {
    "collapsed": false,
    "ExecuteTime": {
     "end_time": "2023-09-20T05:39:25.528223600Z",
     "start_time": "2023-09-20T05:39:25.524251600Z"
    }
   },
   "id": "78b40e25f700c142"
  },
  {
   "cell_type": "markdown",
   "source": [
    "Acessando pela Main class ficaria:"
   ],
   "metadata": {
    "collapsed": false
   },
   "id": "c11076a5fc77fa9d"
  },
  {
   "cell_type": "code",
   "execution_count": null,
   "outputs": [],
   "source": [
    "class Main:\n",
    "    pass\n",
    "from Soldado import Soldado\n",
    "\n",
    "s1 = Soldado('Jorge','Jorginho')\n",
    "\n",
    "print(s1.nome) # Acessando o nome publico\n",
    "print(s1.get_codinome()) # Acessando o codinome encapsulado"
   ],
   "metadata": {
    "collapsed": false
   },
   "id": "c04bfb8c097c9f1e"
  }
 ],
 "metadata": {
  "kernelspec": {
   "display_name": "Python 3",
   "language": "python",
   "name": "python3"
  },
  "language_info": {
   "codemirror_mode": {
    "name": "ipython",
    "version": 2
   },
   "file_extension": ".py",
   "mimetype": "text/x-python",
   "name": "python",
   "nbconvert_exporter": "python",
   "pygments_lexer": "ipython2",
   "version": "2.7.6"
  }
 },
 "nbformat": 4,
 "nbformat_minor": 5
}
